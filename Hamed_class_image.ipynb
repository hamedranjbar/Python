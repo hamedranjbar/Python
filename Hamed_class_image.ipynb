{
  "nbformat": 4,
  "nbformat_minor": 0,
  "metadata": {
    "colab": {
      "provenance": [],
      "authorship_tag": "ABX9TyNwWwPqLR/59ySJgwXqTEiR",
      "include_colab_link": true
    },
    "kernelspec": {
      "name": "python3",
      "display_name": "Python 3"
    },
    "language_info": {
      "name": "python"
    }
  },
  "cells": [
    {
      "cell_type": "markdown",
      "metadata": {
        "id": "view-in-github",
        "colab_type": "text"
      },
      "source": [
        "<a href=\"https://colab.research.google.com/github/hamedranjbar/Python/blob/main/Hamed_class_image.ipynb\" target=\"_parent\"><img src=\"https://colab.research.google.com/assets/colab-badge.svg\" alt=\"Open In Colab\"/></a>"
      ]
    },
    {
      "cell_type": "code",
      "execution_count": 1,
      "metadata": {
        "id": "f5HHjw6iI14E",
        "colab": {
          "base_uri": "https://localhost:8080/",
          "height": 256
        },
        "outputId": "1087845b-2200-48da-93c3-76bee68e0f3d"
      },
      "outputs": [
        {
          "output_type": "stream",
          "name": "stdout",
          "text": [
            "loading... category : Cars\n"
          ]
        },
        {
          "output_type": "error",
          "ename": "FileNotFoundError",
          "evalue": "ignored",
          "traceback": [
            "\u001b[0;31m---------------------------------------------------------------------------\u001b[0m",
            "\u001b[0;31mFileNotFoundError\u001b[0m                         Traceback (most recent call last)",
            "\u001b[0;32m<ipython-input-1-855e168c057a>\u001b[0m in \u001b[0;36m<module>\u001b[0;34m\u001b[0m\n\u001b[1;32m     13\u001b[0m       \u001b[0mprint\u001b[0m\u001b[0;34m(\u001b[0m\u001b[0;34mf'loading... category : {i}'\u001b[0m\u001b[0;34m)\u001b[0m\u001b[0;34m\u001b[0m\u001b[0;34m\u001b[0m\u001b[0m\n\u001b[1;32m     14\u001b[0m       \u001b[0mpath\u001b[0m\u001b[0;34m=\u001b[0m\u001b[0mos\u001b[0m\u001b[0;34m.\u001b[0m\u001b[0mpath\u001b[0m\u001b[0;34m.\u001b[0m\u001b[0mjoin\u001b[0m\u001b[0;34m(\u001b[0m\u001b[0mdatadir\u001b[0m\u001b[0;34m,\u001b[0m\u001b[0mi\u001b[0m\u001b[0;34m)\u001b[0m\u001b[0;34m\u001b[0m\u001b[0;34m\u001b[0m\u001b[0m\n\u001b[0;32m---> 15\u001b[0;31m       \u001b[0;32mfor\u001b[0m \u001b[0mimg\u001b[0m \u001b[0;32min\u001b[0m \u001b[0mos\u001b[0m\u001b[0;34m.\u001b[0m\u001b[0mlistdir\u001b[0m\u001b[0;34m(\u001b[0m\u001b[0mpath\u001b[0m\u001b[0;34m)\u001b[0m\u001b[0;34m:\u001b[0m\u001b[0;34m\u001b[0m\u001b[0;34m\u001b[0m\u001b[0m\n\u001b[0m\u001b[1;32m     16\u001b[0m         \u001b[0mimg_array\u001b[0m\u001b[0;34m=\u001b[0m\u001b[0mimread\u001b[0m\u001b[0;34m(\u001b[0m\u001b[0mos\u001b[0m\u001b[0;34m.\u001b[0m\u001b[0mpath\u001b[0m\u001b[0;34m.\u001b[0m\u001b[0mjoin\u001b[0m\u001b[0;34m(\u001b[0m\u001b[0mpath\u001b[0m\u001b[0;34m,\u001b[0m\u001b[0mimg\u001b[0m\u001b[0;34m)\u001b[0m\u001b[0;34m)\u001b[0m\u001b[0;34m\u001b[0m\u001b[0;34m\u001b[0m\u001b[0m\n\u001b[1;32m     17\u001b[0m         \u001b[0mimg_resized\u001b[0m\u001b[0;34m=\u001b[0m\u001b[0mresize\u001b[0m\u001b[0;34m(\u001b[0m\u001b[0mimg_array\u001b[0m\u001b[0;34m,\u001b[0m\u001b[0;34m(\u001b[0m\u001b[0;36m150\u001b[0m\u001b[0;34m,\u001b[0m\u001b[0;36m150\u001b[0m\u001b[0;34m,\u001b[0m\u001b[0;36m3\u001b[0m\u001b[0;34m)\u001b[0m\u001b[0;34m)\u001b[0m\u001b[0;34m\u001b[0m\u001b[0;34m\u001b[0m\u001b[0m\n",
            "\u001b[0;31mFileNotFoundError\u001b[0m: [Errno 2] No such file or directory: '/content/drive/MyDrive/ML/Cars'"
          ]
        }
      ],
      "source": [
        "import pandas as pd\n",
        "import os\n",
        "from skimage.transform import resize\n",
        "from skimage.io import imread\n",
        "import numpy as np\n",
        "import matplotlib.pyplot as plt\n",
        "Categories=['Cars','Ice cream cone','Cricket ball']\n",
        "flat_data_arr=[] #input array \n",
        "target_arr=[] #output array\n",
        "datadir='/content/drive/MyDrive/ML' \n",
        "#path which contains all the categories of images\n",
        "for i in Categories:\n",
        "      print(f'loading... category : {i}')  \n",
        "      path=os.path.join(datadir,i) \n",
        "      for img in os.listdir(path):    \n",
        "        img_array=imread(os.path.join(path,img))    \n",
        "        img_resized=resize(img_array,(150,150,3))      \n",
        "        flat_data_arr.append(img_resized.flatten())      \n",
        "        target_arr.append(Categories.index(i)) \n",
        "print(f'loaded category:{i} successfully')\n",
        "flat_data=np.array(flat_data_arr)\n",
        "target=np.array(target_arr)\n",
        "df=pd.DataFrame(flat_data) #dataframe\n",
        "df['Target']=targetx=df.iloc[:,:-1] #input data\n",
        "y=df.iloc[:,-1] #output data\n"
      ]
    },
    {
      "cell_type": "code",
      "source": [
        "from sklearn import svm \n",
        "from sklearn.model_selection import GridSearchCV\n",
        "param_grid={'C':[0.1,1,10,100],'gamma':[0.0001,0.001,0.1,1],'kernel':['rbf','poly']}\n",
        "svc=svm.SVC(probability=True)\n",
        "model=GridSearchCV(svc,param_grid)"
      ],
      "metadata": {
        "id": "heM2IGlwaac3"
      },
      "execution_count": 2,
      "outputs": []
    },
    {
      "cell_type": "code",
      "source": [
        "from sklearn.model_selection import train_test_split \n",
        "x_train,x_test,y_train,y_test=train_test_split(x,y,test_size=0.20,random_state=77,stratify=y)\n",
        "print('Splitted Successfully')\n",
        "model.fit(x_train,y_train)\n",
        "print('The Model is trained well with the given images')\n",
        "# model.best_params_ contains the best parameters obtained from GridSearchCV"
      ],
      "metadata": {
        "id": "_Z6vy6KCae1g"
      },
      "execution_count": null,
      "outputs": []
    },
    {
      "cell_type": "code",
      "source": [
        "y_pred=model.predict(x_test)\n",
        "print(\"The predicted Data is :\")\n",
        "print(y_pred)\n",
        "print(\"The actual data is:\")\n",
        "print(np.array(y_test))\n",
        "print(f\"The model is {accuracy_score(y_pred,y_test)*100}% accurate\")"
      ],
      "metadata": {
        "id": "xOKUR5uAag0m"
      },
      "execution_count": null,
      "outputs": []
    },
    {
      "cell_type": "code",
      "source": [
        "url=input('Enter URL of Image :')\n",
        "img=imread(url)\n",
        "plt.imshow(img)\n",
        "plt.show()\n",
        "img_resize=resize(img,(150,150,3))\n",
        "l=[img_resize.flatten()]\n",
        "probability=model.predict_proba(l)\n",
        "for ind,val in enumerate(Categories):\n",
        "        print(f'{val} = {probability[0][ind]*100}%')\n",
        "\n",
        "print(\"The predicted image is : \"+Categories[model.predict(l)[0]])"
      ],
      "metadata": {
        "id": "awXCFcyyaih-"
      },
      "execution_count": null,
      "outputs": []
    }
  ]
}