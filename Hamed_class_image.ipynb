{
  "nbformat": 4,
  "nbformat_minor": 0,
  "metadata": {
    "colab": {
      "provenance": [],
      "collapsed_sections": [],
      "mount_file_id": "1BZe5t8IqDCnIrjKU1TSr6qofMZ-j8MDN",
      "authorship_tag": "ABX9TyOnLaWnST6ARj8WKxQR5fmf",
      "include_colab_link": true
    },
    "kernelspec": {
      "name": "python3",
      "display_name": "Python 3"
    },
    "language_info": {
      "name": "python"
    }
  },
  "cells": [
    {
      "cell_type": "markdown",
      "metadata": {
        "id": "view-in-github",
        "colab_type": "text"
      },
      "source": [
        "<a href=\"https://colab.research.google.com/github/hamedranjbar/Python/blob/main/Hamed_class_image.ipynb\" target=\"_parent\"><img src=\"https://colab.research.google.com/assets/colab-badge.svg\" alt=\"Open In Colab\"/></a>"
      ]
    },
    {
      "cell_type": "markdown",
      "source": [
        "# Add Library hamed\n",
        "\n",
        "---\n",
        "\n",
        "\n"
      ],
      "metadata": {
        "id": "uMcysw4-cCaq"
      }
    },
    {
      "cell_type": "code",
      "source": [
        "!cp -r /content/drive/MyDrive/Dataset  /content/data\n"
      ],
      "metadata": {
        "id": "z7V--A7PhNo8"
      },
      "execution_count": 1,
      "outputs": []
    },
    {
      "cell_type": "code",
      "execution_count": 58,
      "metadata": {
        "id": "f5HHjw6iI14E",
        "colab": {
          "base_uri": "https://localhost:8080/"
        },
        "outputId": "b2d3163e-8758-4128-ccb8-5495fc62dbee"
      },
      "outputs": [
        {
          "output_type": "stream",
          "name": "stdout",
          "text": [
            "loading... category : cat\n",
            "loaded category:cat successfully\n",
            "loading... category : dog\n",
            "loaded category:dog successfully\n"
          ]
        }
      ],
      "source": [
        "import pandas as pd\n",
        "import os\n",
        "from skimage.transform import resize\n",
        "from skimage.io import imread\n",
        "import numpy as np\n",
        "import matplotlib.pyplot as plt\n",
        "Categories=['cat','dog']\n",
        "flat_data_arr=[] #input array \n",
        "target_arr=[] #output array\n",
        "datadir='/content/data' \n",
        "#path which contains all the categories of images\n",
        "for i in Categories:\n",
        "      print(f'loading... category : {i}')  \n",
        "      path=os.path.join(datadir,i) \n",
        "      for img in os.listdir(path):    \n",
        "        img_array=imread(os.path.join(path,img))    \n",
        "        img_resized=resize(img_array,(150,150,3))      \n",
        "        flat_data_arr.append(img_resized.flatten())      \n",
        "        target_arr.append(Categories.index(i)) \n",
        "      print(f'loaded category:{i} successfully')\n",
        "flat_data=np.array(flat_data_arr)\n",
        "target=np.array(target_arr)\n",
        "df=pd.DataFrame(flat_data) #dataframe\n",
        "\n",
        "\n"
      ]
    },
    {
      "cell_type": "code",
      "source": [
        "df"
      ],
      "metadata": {
        "id": "-LIj8Jt6jcKs"
      },
      "execution_count": null,
      "outputs": []
    },
    {
      "cell_type": "code",
      "source": [
        "#df['Target']=targetx=df.iloc[:,:] #input data\n",
        "x=np.array(df)\n",
        "y=target\n",
        "print(x.shape)"
      ],
      "metadata": {
        "colab": {
          "base_uri": "https://localhost:8080/"
        },
        "id": "vqmTtsYjjYzt",
        "outputId": "a308f449-b985-41ca-a2f8-5eb2ceba58ce"
      },
      "execution_count": 59,
      "outputs": [
        {
          "output_type": "stream",
          "name": "stdout",
          "text": [
            "(12, 67500)\n"
          ]
        }
      ]
    },
    {
      "cell_type": "code",
      "source": [
        "from google.colab import drive\n",
        "drive.mount('/content/drive')"
      ],
      "metadata": {
        "id": "_xPJCjxag-KN"
      },
      "execution_count": null,
      "outputs": []
    },
    {
      "cell_type": "code",
      "source": [
        "add libaray1"
      ],
      "metadata": {
        "id": "2DVQoPvccGOu"
      },
      "execution_count": null,
      "outputs": []
    },
    {
      "cell_type": "code",
      "source": [
        "from sklearn import svm \n",
        "from sklearn.model_selection import GridSearchCV\n",
        "param_grid={'C':[0.1,1,10,100],'gamma':[0.0001,0.001,0.1,1],'kernel':['rbf','poly']}\n",
        "svc=svm.SVC(probability=True)\n",
        "model=GridSearchCV(svc,param_grid)"
      ],
      "metadata": {
        "id": "heM2IGlwaac3"
      },
      "execution_count": 60,
      "outputs": []
    },
    {
      "cell_type": "code",
      "source": [
        "from sklearn.model_selection import train_test_split \n",
        "x_train,x_test,y_train,y_test=train_test_split(x,y,test_size=0.20,random_state=77,stratify=y)\n",
        "print('Splitted Successfully')\n",
        "model.fit(x_train,y_train)\n",
        "print('The Model is trained well with the given images')\n",
        "# model.best_params_ contains the best parameters obtained from GridSearchCV"
      ],
      "metadata": {
        "id": "_Z6vy6KCae1g",
        "colab": {
          "base_uri": "https://localhost:8080/"
        },
        "outputId": "e189f05a-d0c2-4845-9bac-e24537c3494d"
      },
      "execution_count": 61,
      "outputs": [
        {
          "output_type": "stream",
          "name": "stdout",
          "text": [
            "Splitted Successfully\n"
          ]
        },
        {
          "output_type": "stream",
          "name": "stderr",
          "text": [
            "/usr/local/lib/python3.7/dist-packages/sklearn/model_selection/_split.py:680: UserWarning: The least populated class in y has only 4 members, which is less than n_splits=5.\n",
            "  UserWarning,\n"
          ]
        },
        {
          "output_type": "stream",
          "name": "stdout",
          "text": [
            "The Model is trained well with the given images\n"
          ]
        }
      ]
    },
    {
      "cell_type": "markdown",
      "source": [
        "SVC"
      ],
      "metadata": {
        "id": "YNF6my4FqKmZ"
      }
    },
    {
      "cell_type": "code",
      "source": [
        "from sklearn.metrics import accuracy_score\n",
        "y_pred=model.predict(x_test)\n",
        "print(\"The predicted Data is :\")\n",
        "print(y_pred)\n",
        "print(\"The actual data is:\")\n",
        "print(np.array(y_test))\n",
        "print(f\"The model is {accuracy_score(y_pred,y_test)*100}% accurate\")"
      ],
      "metadata": {
        "id": "xOKUR5uAag0m",
        "colab": {
          "base_uri": "https://localhost:8080/"
        },
        "outputId": "6684e31a-a4fa-4c0b-bf00-9886b3635d5f"
      },
      "execution_count": 62,
      "outputs": [
        {
          "output_type": "stream",
          "name": "stdout",
          "text": [
            "The predicted Data is :\n",
            "[0 0 0]\n",
            "The actual data is:\n",
            "[0 1 1]\n",
            "The model is 33.33333333333333% accurate\n"
          ]
        }
      ]
    },
    {
      "cell_type": "markdown",
      "source": [
        "Knn"
      ],
      "metadata": {
        "id": "sI-H0GS-qNuc"
      }
    },
    {
      "cell_type": "code",
      "source": [
        "from math import sqrt\n",
        "from sklearn import neighbors\n",
        "from sklearn.metrics import mean_squared_error \n",
        "rmse_val=[]\n",
        "for K in range(9):\n",
        "    K = K+1\n",
        "    model = neighbors.KNeighborsRegressor(n_neighbors = K)\n",
        "\n",
        "    model.fit(x_train, y_train)  #fit the model\n",
        "    pred=model.predict(x_test) #make prediction on test set\n",
        "    error = sqrt(mean_squared_error(y_test,pred)) #calculate rmse\n",
        "    rmse_val.append(error) #store rmse values\n",
        "    print('RMSE value for k= ' , K , 'is:', error)\n",
        "\n",
        "print('minumum == ',np.amin(rmse_val))\n",
        "\n",
        "#plotting the rmse values against k values\n",
        "curve = pd.DataFrame(rmse_val) #elbow curve \n",
        "_=curve.plot()"
      ],
      "metadata": {
        "colab": {
          "base_uri": "https://localhost:8080/",
          "height": 439
        },
        "id": "o4R3zAWjqI85",
        "outputId": "75f8195d-6d61-4817-fa5c-4ce89d713464"
      },
      "execution_count": 82,
      "outputs": [
        {
          "output_type": "stream",
          "name": "stdout",
          "text": [
            "RMSE value for k=  1 is: 0.816496580927726\n",
            "RMSE value for k=  2 is: 0.7071067811865476\n",
            "RMSE value for k=  3 is: 0.6666666666666667\n",
            "RMSE value for k=  4 is: 0.5\n",
            "RMSE value for k=  5 is: 0.5416025603090641\n",
            "RMSE value for k=  6 is: 0.5610836076867821\n",
            "RMSE value for k=  7 is: 0.5832118435198043\n",
            "RMSE value for k=  8 is: 0.5448623679425842\n",
            "RMSE value for k=  9 is: 0.5211573066470477\n",
            "minumum ==  0.5\n"
          ]
        },
        {
          "output_type": "display_data",
          "data": {
            "text/plain": [
              "<Figure size 432x288 with 1 Axes>"
            ],
            "image/png": "[encoded data removed]"
          },
          "metadata": {
            "needs_background": "light"
          }
        }
      ]
    },
    {
      "cell_type": "code",
      "source": [
        "url=input('Enter URL of Image :')\n",
        "img=imread(url)\n",
        "plt.imshow(img)\n",
        "plt.show()\n",
        "img_resize=resize(img,(150,150,3))\n",
        "l=[img_resize.flatten()]\n",
        "probability=model.predict_proba(l)\n",
        "for ind,val in enumerate(Categories):\n",
        "        print(f'{val} = {probability[0][ind]*100}%')\n",
        "\n",
        "print(\"The predicted image is : \"+Categories[model.predict(l)[0]])"
      ],
      "metadata": {
        "id": "awXCFcyyaih-"
      },
      "execution_count": null,
      "outputs": []
    }
  ]
}